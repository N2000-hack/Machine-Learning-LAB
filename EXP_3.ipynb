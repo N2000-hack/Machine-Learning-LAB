{
  "nbformat": 4,
  "nbformat_minor": 0,
  "metadata": {
    "colab": {
      "name": "EXP_3.ipynb",
      "provenance": [],
      "authorship_tag": "ABX9TyNCzk1dYY+fRfPFUZotQbAC",
      "include_colab_link": true
    },
    "kernelspec": {
      "name": "python3",
      "display_name": "Python 3"
    },
    "language_info": {
      "name": "python"
    }
  },
  "cells": [
    {
      "cell_type": "markdown",
      "metadata": {
        "id": "view-in-github",
        "colab_type": "text"
      },
      "source": [
        "<a href=\"https://colab.research.google.com/github/N2000-hack/Machine-Learning-LAB/blob/main/EXP_3.ipynb\" target=\"_parent\"><img src=\"https://colab.research.google.com/assets/colab-badge.svg\" alt=\"Open In Colab\"/></a>"
      ]
    },
    {
      "cell_type": "code",
      "metadata": {
        "colab": {
          "base_uri": "https://localhost:8080/"
        },
        "id": "XmOZnbNzttQz",
        "outputId": "bc18559f-add3-41e2-ac87-26b009780fca"
      },
      "source": [
        "from google.colab import drive\n",
        "drive.mount('/content/drive')"
      ],
      "execution_count": 28,
      "outputs": [
        {
          "output_type": "stream",
          "name": "stdout",
          "text": [
            "Drive already mounted at /content/drive; to attempt to forcibly remount, call drive.mount(\"/content/drive\", force_remount=True).\n"
          ]
        }
      ]
    },
    {
      "cell_type": "code",
      "metadata": {
        "id": "OMmh3Y3Vu-_M"
      },
      "source": [
        "import numpy as np\n",
        "from sklearn.impute import SimpleImputer\n",
        "from sklearn.model_selection import train_test_split\n",
        "from sklearn.neighbors import KNeighborsClassifier\n",
        "from sklearn.metrics import accuracy_score"
      ],
      "execution_count": 33,
      "outputs": []
    },
    {
      "cell_type": "code",
      "metadata": {
        "id": "NZLr3yBJvNhN"
      },
      "source": [
        "cancer_data=np.genfromtxt(\n",
        "    fname='/content/drive/MyDrive/ML LAB DATASETS/breast-cancer-wisconsin (2).data',delimiter=',',dtype=float)"
      ],
      "execution_count": 34,
      "outputs": []
    },
    {
      "cell_type": "code",
      "metadata": {
        "colab": {
          "base_uri": "https://localhost:8080/"
        },
        "id": "yBF548QSvWh9",
        "outputId": "d8b51262-5d74-4e6f-91df-ae947f750bca"
      },
      "source": [
        "print(\"Dataset Length:: \", len(cancer_data))"
      ],
      "execution_count": 35,
      "outputs": [
        {
          "output_type": "stream",
          "name": "stdout",
          "text": [
            "Dataset Length::  699\n"
          ]
        }
      ]
    },
    {
      "cell_type": "code",
      "metadata": {
        "colab": {
          "base_uri": "https://localhost:8080/"
        },
        "id": "dfq3qhqcvWx-",
        "outputId": "9a0a8103-e8f6-4613-d459-60b19d6e49c1"
      },
      "source": [
        "print(\"Dataset:: \", str(cancer_data))"
      ],
      "execution_count": 36,
      "outputs": [
        {
          "output_type": "stream",
          "name": "stdout",
          "text": [
            "Dataset::  [[1.000025e+06 5.000000e+00 1.000000e+00 ... 1.000000e+00 1.000000e+00\n",
            "  2.000000e+00]\n",
            " [1.002945e+06 5.000000e+00 4.000000e+00 ... 2.000000e+00 1.000000e+00\n",
            "  2.000000e+00]\n",
            " [1.015425e+06 3.000000e+00 1.000000e+00 ... 1.000000e+00 1.000000e+00\n",
            "  2.000000e+00]\n",
            " ...\n",
            " [8.888200e+05 5.000000e+00 1.000000e+01 ... 1.000000e+01 2.000000e+00\n",
            "  4.000000e+00]\n",
            " [8.974710e+05 4.000000e+00 8.000000e+00 ... 6.000000e+00 1.000000e+00\n",
            "  4.000000e+00]\n",
            " [8.974710e+05 4.000000e+00 8.000000e+00 ... 4.000000e+00 1.000000e+00\n",
            "  4.000000e+00]]\n"
          ]
        }
      ]
    },
    {
      "cell_type": "code",
      "metadata": {
        "colab": {
          "base_uri": "https://localhost:8080/"
        },
        "id": "C1er4BALvW1D",
        "outputId": "22bbe378-4863-4982-fbca-3cdef0703b46"
      },
      "source": [
        "print(\"Dataset Shape:: \",(cancer_data.shape))"
      ],
      "execution_count": 37,
      "outputs": [
        {
          "output_type": "stream",
          "name": "stdout",
          "text": [
            "Dataset Shape::  (699, 11)\n"
          ]
        }
      ]
    },
    {
      "cell_type": "code",
      "metadata": {
        "colab": {
          "base_uri": "https://localhost:8080/"
        },
        "id": "VhzjZMgdvW3z",
        "outputId": "d7877e3b-f84b-4bf2-dad4-99a190d29c72"
      },
      "source": [
        "print(cancer_data)"
      ],
      "execution_count": 38,
      "outputs": [
        {
          "output_type": "stream",
          "name": "stdout",
          "text": [
            "[[1.000025e+06 5.000000e+00 1.000000e+00 ... 1.000000e+00 1.000000e+00\n",
            "  2.000000e+00]\n",
            " [1.002945e+06 5.000000e+00 4.000000e+00 ... 2.000000e+00 1.000000e+00\n",
            "  2.000000e+00]\n",
            " [1.015425e+06 3.000000e+00 1.000000e+00 ... 1.000000e+00 1.000000e+00\n",
            "  2.000000e+00]\n",
            " ...\n",
            " [8.888200e+05 5.000000e+00 1.000000e+01 ... 1.000000e+01 2.000000e+00\n",
            "  4.000000e+00]\n",
            " [8.974710e+05 4.000000e+00 8.000000e+00 ... 6.000000e+00 1.000000e+00\n",
            "  4.000000e+00]\n",
            " [8.974710e+05 4.000000e+00 8.000000e+00 ... 4.000000e+00 1.000000e+00\n",
            "  4.000000e+00]]\n"
          ]
        }
      ]
    },
    {
      "cell_type": "code",
      "metadata": {
        "id": "p_HwXuCMvW6a"
      },
      "source": [
        "cancer_data=np.delete(arr=cancer_data,obj=0,axis=1)"
      ],
      "execution_count": 39,
      "outputs": []
    },
    {
      "cell_type": "code",
      "metadata": {
        "colab": {
          "base_uri": "https://localhost:8080/"
        },
        "id": "T4E52k5hvjGb",
        "outputId": "332e0e17-735b-4b86-e5e6-a6756a6c446d"
      },
      "source": [
        "X=cancer_data[:,range(0,9)]\n",
        "X"
      ],
      "execution_count": 40,
      "outputs": [
        {
          "output_type": "execute_result",
          "data": {
            "text/plain": [
              "array([[ 5.,  1.,  1., ...,  3.,  1.,  1.],\n",
              "       [ 5.,  4.,  4., ...,  3.,  2.,  1.],\n",
              "       [ 3.,  1.,  1., ...,  3.,  1.,  1.],\n",
              "       ...,\n",
              "       [ 5., 10., 10., ...,  8., 10.,  2.],\n",
              "       [ 4.,  8.,  6., ..., 10.,  6.,  1.],\n",
              "       [ 4.,  8.,  8., ..., 10.,  4.,  1.]])"
            ]
          },
          "metadata": {},
          "execution_count": 40
        }
      ]
    },
    {
      "cell_type": "code",
      "metadata": {
        "colab": {
          "base_uri": "https://localhost:8080/"
        },
        "id": "3PwvkSNRvjJR",
        "outputId": "d842bab5-537d-4041-cae7-4005218a5b74"
      },
      "source": [
        "Y=cancer_data[:,9]\n",
        "Y"
      ],
      "execution_count": 41,
      "outputs": [
        {
          "output_type": "execute_result",
          "data": {
            "text/plain": [
              "array([2., 2., 2., 2., 2., 4., 2., 2., 2., 2., 2., 2., 4., 2., 4., 4., 2.,\n",
              "       2., 4., 2., 4., 4., 2., 4., 2., 4., 2., 2., 2., 2., 2., 2., 4., 2.,\n",
              "       2., 2., 4., 2., 4., 4., 2., 4., 4., 4., 4., 2., 4., 2., 2., 4., 4.,\n",
              "       4., 4., 4., 4., 4., 4., 4., 4., 4., 4., 2., 4., 4., 2., 4., 2., 4.,\n",
              "       4., 2., 2., 4., 2., 4., 4., 2., 2., 2., 2., 2., 2., 2., 2., 2., 4.,\n",
              "       4., 4., 4., 2., 2., 2., 2., 2., 2., 2., 2., 2., 2., 4., 4., 4., 4.,\n",
              "       2., 4., 4., 4., 4., 4., 2., 4., 2., 4., 4., 4., 2., 2., 2., 4., 2.,\n",
              "       2., 2., 2., 4., 4., 4., 2., 4., 2., 4., 2., 2., 2., 4., 2., 2., 2.,\n",
              "       2., 2., 2., 2., 2., 2., 4., 2., 2., 2., 4., 2., 2., 4., 2., 4., 4.,\n",
              "       2., 2., 4., 2., 2., 2., 4., 4., 2., 2., 2., 2., 2., 4., 4., 2., 2.,\n",
              "       2., 2., 2., 4., 4., 4., 2., 4., 2., 4., 2., 2., 2., 4., 4., 2., 4.,\n",
              "       4., 4., 2., 4., 4., 2., 2., 2., 2., 2., 2., 2., 2., 4., 4., 2., 2.,\n",
              "       2., 4., 4., 2., 2., 2., 4., 4., 2., 4., 4., 4., 2., 2., 4., 2., 2.,\n",
              "       4., 4., 4., 4., 2., 4., 4., 2., 4., 4., 4., 2., 4., 2., 2., 4., 4.,\n",
              "       4., 4., 2., 2., 2., 2., 2., 2., 4., 4., 2., 2., 2., 4., 2., 4., 4.,\n",
              "       4., 2., 2., 2., 2., 4., 4., 4., 4., 4., 2., 4., 4., 4., 2., 4., 2.,\n",
              "       4., 4., 2., 2., 2., 2., 2., 4., 2., 2., 4., 4., 4., 4., 4., 2., 4.,\n",
              "       4., 2., 2., 4., 4., 2., 4., 2., 2., 2., 4., 4., 2., 4., 2., 4., 4.,\n",
              "       2., 2., 4., 2., 2., 2., 4., 2., 2., 2., 4., 4., 2., 2., 4., 2., 2.,\n",
              "       4., 2., 2., 4., 2., 4., 4., 4., 2., 2., 4., 4., 2., 4., 2., 2., 4.,\n",
              "       4., 2., 2., 2., 4., 2., 2., 2., 4., 4., 2., 2., 2., 4., 2., 2., 4.,\n",
              "       4., 4., 4., 4., 4., 2., 2., 2., 2., 4., 4., 2., 2., 2., 2., 2., 2.,\n",
              "       2., 2., 2., 2., 2., 2., 2., 4., 2., 2., 2., 2., 4., 2., 2., 2., 2.,\n",
              "       4., 2., 2., 2., 2., 2., 2., 2., 2., 4., 2., 2., 2., 2., 2., 2., 2.,\n",
              "       2., 2., 2., 2., 4., 2., 4., 2., 4., 2., 2., 2., 2., 4., 2., 2., 2.,\n",
              "       4., 2., 4., 2., 2., 2., 2., 2., 2., 2., 4., 4., 2., 2., 2., 4., 2.,\n",
              "       2., 2., 2., 2., 2., 2., 2., 4., 2., 2., 2., 4., 2., 4., 4., 4., 2.,\n",
              "       2., 2., 2., 2., 2., 2., 4., 4., 4., 2., 2., 2., 2., 2., 2., 2., 2.,\n",
              "       2., 2., 2., 4., 2., 2., 4., 4., 2., 2., 2., 4., 4., 4., 2., 4., 2.,\n",
              "       4., 2., 2., 2., 2., 2., 2., 2., 2., 2., 2., 2., 2., 4., 2., 2., 2.,\n",
              "       2., 2., 2., 2., 4., 4., 2., 2., 2., 4., 2., 2., 4., 4., 2., 2., 2.,\n",
              "       2., 2., 2., 4., 2., 2., 2., 2., 2., 2., 2., 2., 2., 2., 2., 2., 2.,\n",
              "       2., 2., 4., 2., 2., 4., 2., 2., 2., 2., 2., 2., 2., 2., 2., 2., 2.,\n",
              "       2., 2., 2., 2., 4., 2., 2., 4., 4., 4., 4., 2., 2., 4., 2., 2., 2.,\n",
              "       2., 2., 2., 4., 4., 2., 2., 2., 4., 2., 4., 2., 4., 4., 4., 2., 4.,\n",
              "       2., 2., 2., 2., 2., 2., 2., 2., 4., 4., 4., 2., 2., 4., 2., 4., 4.,\n",
              "       4., 2., 2., 2., 2., 2., 2., 2., 2., 2., 2., 2., 2., 2., 4., 2., 2.,\n",
              "       2., 2., 2., 2., 4., 2., 2., 4., 2., 2., 2., 2., 2., 2., 2., 2., 2.,\n",
              "       2., 2., 4., 2., 2., 2., 2., 2., 2., 2., 2., 2., 4., 2., 2., 2., 2.,\n",
              "       2., 2., 2., 2., 2., 4., 4., 4., 2., 2., 2., 2., 2., 2., 2., 2., 2.,\n",
              "       4., 4., 2., 2., 2., 2., 2., 2., 2., 2., 2., 4., 2., 2., 2., 2., 4.,\n",
              "       4., 4.])"
            ]
          },
          "metadata": {},
          "execution_count": 41
        }
      ]
    },
    {
      "cell_type": "code",
      "metadata": {
        "id": "2WUhkA1GvjMz"
      },
      "source": [
        "imp=SimpleImputer(missing_values=np.nan,strategy='median')\n",
        "X=imp.fit_transform(X)"
      ],
      "execution_count": 44,
      "outputs": []
    },
    {
      "cell_type": "code",
      "metadata": {
        "id": "1BXyQ1eMvW9-"
      },
      "source": [
        "X_train, X_test, y_train, y_test = train_test_split(X, Y, test_size=0.3, random_state=100)\n",
        "y_train = y_train.ravel()\n",
        "y_test = y_test.ravel()"
      ],
      "execution_count": 45,
      "outputs": []
    },
    {
      "cell_type": "code",
      "metadata": {
        "colab": {
          "base_uri": "https://localhost:8080/"
        },
        "id": "rvXXERBQ0C-S",
        "outputId": "bdb964af-03bf-402b-a7eb-11702fe5f8b6"
      },
      "source": [
        "X_train"
      ],
      "execution_count": 46,
      "outputs": [
        {
          "output_type": "execute_result",
          "data": {
            "text/plain": [
              "array([[ 1.,  1.,  1., ...,  2.,  1.,  1.],\n",
              "       [ 9., 10., 10., ..., 10., 10.,  1.],\n",
              "       [ 1.,  1.,  1., ...,  3.,  1.,  1.],\n",
              "       ...,\n",
              "       [ 5.,  1.,  1., ...,  1.,  1.,  1.],\n",
              "       [ 2.,  1.,  1., ...,  2.,  1.,  1.],\n",
              "       [ 1.,  1.,  1., ...,  1.,  1.,  1.]])"
            ]
          },
          "metadata": {},
          "execution_count": 46
        }
      ]
    },
    {
      "cell_type": "code",
      "metadata": {
        "colab": {
          "base_uri": "https://localhost:8080/"
        },
        "id": "H8uFR3ZD0IhE",
        "outputId": "d105ff99-efe0-44db-9422-f75e5a3f5f7d"
      },
      "source": [
        "X_test"
      ],
      "execution_count": 47,
      "outputs": [
        {
          "output_type": "execute_result",
          "data": {
            "text/plain": [
              "array([[2., 1., 1., ..., 1., 1., 1.],\n",
              "       [4., 4., 4., ..., 7., 3., 1.],\n",
              "       [8., 9., 9., ..., 7., 7., 1.],\n",
              "       ...,\n",
              "       [5., 1., 1., ..., 2., 1., 1.],\n",
              "       [5., 1., 2., ..., 3., 1., 1.],\n",
              "       [3., 1., 1., ..., 3., 1., 1.]])"
            ]
          },
          "metadata": {},
          "execution_count": 47
        }
      ]
    },
    {
      "cell_type": "code",
      "metadata": {
        "colab": {
          "base_uri": "https://localhost:8080/"
        },
        "id": "jEOH_tvL0MQ_",
        "outputId": "76ccf77c-2fe9-4080-d69c-646cb786cdd6"
      },
      "source": [
        "y_train"
      ],
      "execution_count": 48,
      "outputs": [
        {
          "output_type": "execute_result",
          "data": {
            "text/plain": [
              "array([2., 4., 2., 2., 4., 2., 2., 2., 2., 2., 2., 2., 2., 2., 4., 2., 2.,\n",
              "       2., 4., 2., 2., 4., 2., 4., 2., 2., 2., 4., 4., 2., 2., 4., 2., 4.,\n",
              "       4., 4., 4., 4., 2., 2., 2., 4., 2., 2., 4., 2., 2., 2., 2., 2., 4.,\n",
              "       2., 2., 2., 2., 2., 2., 2., 2., 4., 2., 2., 4., 2., 4., 2., 2., 2.,\n",
              "       2., 2., 2., 2., 4., 4., 2., 2., 4., 4., 2., 4., 4., 2., 4., 2., 2.,\n",
              "       2., 4., 2., 2., 4., 2., 4., 2., 2., 2., 2., 2., 2., 2., 4., 4., 4.,\n",
              "       2., 2., 2., 2., 2., 2., 2., 4., 2., 2., 4., 4., 4., 4., 2., 4., 2.,\n",
              "       4., 2., 2., 2., 4., 4., 2., 2., 2., 4., 4., 2., 2., 4., 2., 2., 2.,\n",
              "       4., 4., 4., 4., 2., 2., 2., 2., 2., 2., 2., 2., 4., 4., 4., 2., 4.,\n",
              "       2., 2., 2., 2., 2., 2., 4., 2., 4., 2., 2., 2., 2., 4., 4., 2., 4.,\n",
              "       2., 4., 2., 2., 2., 2., 4., 2., 4., 2., 2., 2., 2., 4., 2., 4., 2.,\n",
              "       4., 4., 2., 2., 2., 2., 4., 4., 2., 2., 2., 2., 2., 2., 2., 2., 4.,\n",
              "       2., 2., 2., 2., 2., 2., 4., 4., 4., 2., 2., 4., 2., 2., 4., 2., 2.,\n",
              "       4., 4., 2., 4., 2., 2., 4., 4., 2., 2., 2., 2., 4., 2., 2., 4., 2.,\n",
              "       4., 4., 2., 2., 2., 2., 2., 2., 2., 2., 4., 2., 2., 2., 2., 4., 2.,\n",
              "       4., 4., 4., 2., 2., 2., 2., 4., 2., 2., 2., 2., 4., 2., 2., 4., 2.,\n",
              "       4., 4., 4., 2., 2., 2., 2., 4., 4., 2., 2., 2., 2., 4., 4., 2., 4.,\n",
              "       2., 2., 4., 2., 2., 4., 2., 4., 4., 4., 2., 2., 2., 2., 2., 4., 2.,\n",
              "       2., 2., 2., 4., 4., 2., 2., 4., 2., 2., 2., 2., 4., 4., 2., 4., 2.,\n",
              "       2., 2., 2., 2., 4., 2., 2., 4., 4., 4., 2., 4., 2., 2., 2., 2., 4.,\n",
              "       4., 2., 2., 2., 2., 2., 2., 2., 2., 2., 4., 4., 4., 2., 4., 2., 2.,\n",
              "       2., 4., 4., 2., 2., 2., 2., 2., 4., 4., 2., 2., 2., 2., 2., 2., 4.,\n",
              "       2., 2., 4., 2., 2., 4., 4., 2., 2., 4., 2., 4., 4., 2., 2., 2., 2.,\n",
              "       2., 2., 2., 2., 2., 4., 4., 4., 4., 4., 2., 2., 2., 2., 2., 2., 2.,\n",
              "       2., 2., 4., 2., 2., 2., 2., 2., 4., 2., 2., 2., 4., 4., 4., 2., 2.,\n",
              "       2., 2., 4., 2., 2., 4., 2., 2., 2., 2., 2., 2., 2., 2., 4., 4., 2.,\n",
              "       2., 2., 2., 2., 2., 4., 2., 2., 2., 2., 2., 2., 4., 4., 2., 4., 2.,\n",
              "       2., 2., 2., 4., 4., 2., 4., 2., 4., 2., 4., 2., 2., 2., 4., 4., 2.,\n",
              "       2., 2., 4., 4., 2., 2., 2., 2., 2., 4., 2., 2., 2.])"
            ]
          },
          "metadata": {},
          "execution_count": 48
        }
      ]
    },
    {
      "cell_type": "code",
      "metadata": {
        "colab": {
          "base_uri": "https://localhost:8080/"
        },
        "id": "77VJR5RG0Mdb",
        "outputId": "2f07cca7-f80a-4ff6-99a9-b9416de8bca9"
      },
      "source": [
        "y_test"
      ],
      "execution_count": 49,
      "outputs": [
        {
          "output_type": "execute_result",
          "data": {
            "text/plain": [
              "array([2., 2., 4., 4., 2., 2., 2., 2., 4., 2., 4., 2., 2., 2., 4., 2., 2.,\n",
              "       2., 2., 4., 4., 2., 2., 2., 4., 2., 4., 4., 2., 4., 2., 4., 2., 4.,\n",
              "       4., 4., 4., 2., 4., 2., 2., 4., 2., 4., 2., 2., 2., 2., 2., 2., 4.,\n",
              "       2., 2., 4., 4., 2., 2., 2., 2., 2., 2., 2., 4., 2., 4., 2., 4., 2.,\n",
              "       2., 4., 2., 4., 2., 4., 4., 2., 4., 2., 4., 4., 2., 2., 2., 2., 4.,\n",
              "       4., 2., 2., 2., 4., 2., 4., 2., 2., 2., 4., 2., 2., 2., 2., 4., 4.,\n",
              "       4., 4., 4., 4., 2., 2., 4., 4., 2., 2., 2., 2., 2., 2., 4., 4., 4.,\n",
              "       4., 2., 4., 2., 2., 2., 2., 2., 4., 2., 2., 2., 4., 2., 4., 4., 4.,\n",
              "       4., 2., 4., 2., 4., 2., 2., 2., 2., 4., 4., 4., 4., 2., 2., 2., 4.,\n",
              "       4., 2., 2., 2., 4., 2., 2., 4., 4., 2., 2., 2., 2., 2., 2., 4., 4.,\n",
              "       2., 2., 2., 2., 4., 2., 4., 2., 2., 2., 4., 2., 2., 2., 2., 2., 2.,\n",
              "       4., 2., 2., 2., 4., 4., 2., 2., 2., 4., 2., 2., 2., 2., 4., 2., 4.,\n",
              "       4., 4., 4., 2., 2., 2.])"
            ]
          },
          "metadata": {},
          "execution_count": 49
        }
      ]
    },
    {
      "cell_type": "code",
      "metadata": {
        "colab": {
          "base_uri": "https://localhost:8080/"
        },
        "id": "WjRNT7G8v1DS",
        "outputId": "e52a0847-ac8d-4ead-a78e-a1c1536a3c9e"
      },
      "source": [
        "for K in range(25):\n",
        "  K_value=K+1\n",
        "  neigh=KNeighborsClassifier(n_neighbors=K_value,weights='uniform',algorithm='auto')\n",
        "  neigh.fit(X_train, y_train)\n",
        "  y_pred=neigh.predict(X_test)\n",
        "  print(\" Accuracy is \",accuracy_score(y_test,y_pred)*100,\"% for K-Value: \",K_value)"
      ],
      "execution_count": 50,
      "outputs": [
        {
          "output_type": "stream",
          "name": "stdout",
          "text": [
            " Accuracy is  95.23809523809523 % for K-Value:  1\n",
            " Accuracy is  93.33333333333333 % for K-Value:  2\n",
            " Accuracy is  95.71428571428572 % for K-Value:  3\n",
            " Accuracy is  95.23809523809523 % for K-Value:  4\n",
            " Accuracy is  95.71428571428572 % for K-Value:  5\n",
            " Accuracy is  94.76190476190476 % for K-Value:  6\n",
            " Accuracy is  94.76190476190476 % for K-Value:  7\n",
            " Accuracy is  94.28571428571428 % for K-Value:  8\n",
            " Accuracy is  94.76190476190476 % for K-Value:  9\n",
            " Accuracy is  94.28571428571428 % for K-Value:  10\n",
            " Accuracy is  94.28571428571428 % for K-Value:  11\n",
            " Accuracy is  94.76190476190476 % for K-Value:  12\n",
            " Accuracy is  94.76190476190476 % for K-Value:  13\n",
            " Accuracy is  93.80952380952381 % for K-Value:  14\n",
            " Accuracy is  93.80952380952381 % for K-Value:  15\n",
            " Accuracy is  93.80952380952381 % for K-Value:  16\n",
            " Accuracy is  93.80952380952381 % for K-Value:  17\n",
            " Accuracy is  93.80952380952381 % for K-Value:  18\n",
            " Accuracy is  93.80952380952381 % for K-Value:  19\n",
            " Accuracy is  93.80952380952381 % for K-Value:  20\n",
            " Accuracy is  93.80952380952381 % for K-Value:  21\n",
            " Accuracy is  93.80952380952381 % for K-Value:  22\n",
            " Accuracy is  93.80952380952381 % for K-Value:  23\n",
            " Accuracy is  93.80952380952381 % for K-Value:  24\n",
            " Accuracy is  93.80952380952381 % for K-Value:  25\n"
          ]
        }
      ]
    }
  ]
}