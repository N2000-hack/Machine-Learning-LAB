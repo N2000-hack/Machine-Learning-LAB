{
  "nbformat": 4,
  "nbformat_minor": 0,
  "metadata": {
    "colab": {
      "name": "EXP_1_Baye's_Rule.ipynb",
      "provenance": [],
      "collapsed_sections": [],
      "authorship_tag": "ABX9TyMRChLolWdBtjjvjtCCvUJQ",
      "include_colab_link": true
    },
    "kernelspec": {
      "name": "python3",
      "display_name": "Python 3"
    },
    "language_info": {
      "name": "python"
    }
  },
  "cells": [
    {
      "cell_type": "markdown",
      "metadata": {
        "id": "view-in-github",
        "colab_type": "text"
      },
      "source": [
        "<a href=\"https://colab.research.google.com/github/N2000-hack/Machine-Learning-LAB/blob/main/EXP_1_Baye's_Rule.ipynb\" target=\"_parent\"><img src=\"https://colab.research.google.com/assets/colab-badge.svg\" alt=\"Open In Colab\"/></a>"
      ]
    },
    {
      "cell_type": "code",
      "metadata": {
        "id": "-PIK6x1f12VG"
      },
      "source": [
        "from itertools import product"
      ],
      "execution_count": null,
      "outputs": []
    },
    {
      "cell_type": "code",
      "metadata": {
        "id": "cBibqBLm9JPD",
        "colab": {
          "base_uri": "https://localhost:8080/"
        },
        "outputId": "45c5bd33-fc76-429d-cb25-8ed0216b7d2c"
      },
      "source": [
        "D = ['Mon', 'Tue', 'Wed', 'Thu', 'Fri']\n",
        "D"
      ],
      "execution_count": null,
      "outputs": [
        {
          "output_type": "execute_result",
          "data": {
            "text/plain": [
              "['Mon', 'Tue', 'Wed', 'Thu', 'Fri']"
            ]
          },
          "metadata": {},
          "execution_count": 2
        }
      ]
    },
    {
      "cell_type": "code",
      "metadata": {
        "id": "aNMW43n-9Vay",
        "colab": {
          "base_uri": "https://localhost:8080/"
        },
        "outputId": "994b9fc1-b30f-45f7-fb21-ea6323a7cfdf"
      },
      "source": [
        "S = ['A','P']\n",
        "S"
      ],
      "execution_count": null,
      "outputs": [
        {
          "output_type": "execute_result",
          "data": {
            "text/plain": [
              "['A', 'P']"
            ]
          },
          "metadata": {},
          "execution_count": 3
        }
      ]
    },
    {
      "cell_type": "code",
      "metadata": {
        "id": "fWyVwuTj9fGw",
        "colab": {
          "base_uri": "https://localhost:8080/"
        },
        "outputId": "53254739-65f8-401a-f4a6-f17793c981a4"
      },
      "source": [
        "pos = set(product(D,S))\n",
        "pos"
      ],
      "execution_count": null,
      "outputs": [
        {
          "output_type": "execute_result",
          "data": {
            "text/plain": [
              "{('Fri', 'A'),\n",
              " ('Fri', 'P'),\n",
              " ('Mon', 'A'),\n",
              " ('Mon', 'P'),\n",
              " ('Thu', 'A'),\n",
              " ('Thu', 'P'),\n",
              " ('Tue', 'A'),\n",
              " ('Tue', 'P'),\n",
              " ('Wed', 'A'),\n",
              " ('Wed', 'P')}"
            ]
          },
          "metadata": {},
          "execution_count": 4
        }
      ]
    },
    {
      "cell_type": "code",
      "metadata": {
        "id": "SvRVEox99q4Z"
      },
      "source": [
        "def  prob(x):\n",
        " return len(x)/len(D)"
      ],
      "execution_count": null,
      "outputs": []
    },
    {
      "cell_type": "code",
      "metadata": {
        "id": "WYsJdGSI92gn"
      },
      "source": [
        "def condi(x,y):\n",
        "  return x/prob(y)"
      ],
      "execution_count": null,
      "outputs": []
    },
    {
      "cell_type": "code",
      "metadata": {
        "id": "awakuzpk-TK_",
        "colab": {
          "base_uri": "https://localhost:8080/"
        },
        "outputId": "5b39c2de-523c-48f3-c169-c8eb4cb815fa"
      },
      "source": [
        "F=['Fri']\n",
        "F"
      ],
      "execution_count": null,
      "outputs": [
        {
          "output_type": "execute_result",
          "data": {
            "text/plain": [
              "['Fri']"
            ]
          },
          "metadata": {},
          "execution_count": 7
        }
      ]
    },
    {
      "cell_type": "code",
      "metadata": {
        "id": "WY28uLOK-TJx",
        "colab": {
          "base_uri": "https://localhost:8080/"
        },
        "outputId": "f788d79a-a456-4b84-d905-0bda15b9c7d4"
      },
      "source": [
        "prob(F)"
      ],
      "execution_count": null,
      "outputs": [
        {
          "output_type": "execute_result",
          "data": {
            "text/plain": [
              "0.2"
            ]
          },
          "metadata": {},
          "execution_count": 8
        }
      ]
    },
    {
      "cell_type": "code",
      "metadata": {
        "id": "3s2K-emH-vBY"
      },
      "source": [
        "A = 0.03"
      ],
      "execution_count": null,
      "outputs": []
    },
    {
      "cell_type": "code",
      "metadata": {
        "id": "HZfLh5ZR-hpY",
        "colab": {
          "base_uri": "https://localhost:8080/"
        },
        "outputId": "75406bf5-eff6-4068-ff3c-8bc6043babe6"
      },
      "source": [
        "condi(A,F)"
      ],
      "execution_count": null,
      "outputs": [
        {
          "output_type": "execute_result",
          "data": {
            "text/plain": [
              "0.15"
            ]
          },
          "metadata": {},
          "execution_count": 10
        }
      ]
    }
  ]
}