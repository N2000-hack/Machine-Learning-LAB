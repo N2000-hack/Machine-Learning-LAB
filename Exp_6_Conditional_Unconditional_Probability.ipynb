{
  "nbformat": 4,
  "nbformat_minor": 0,
  "metadata": {
    "colab": {
      "name": "Exp_6_Conditional/Unconditional_Probability.ipynb",
      "provenance": [],
      "authorship_tag": "ABX9TyNCcTT1VvuvaBWfh/W2Gjkr",
      "include_colab_link": true
    },
    "kernelspec": {
      "name": "python3",
      "display_name": "Python 3"
    },
    "language_info": {
      "name": "python"
    }
  },
  "cells": [
    {
      "cell_type": "markdown",
      "metadata": {
        "id": "view-in-github",
        "colab_type": "text"
      },
      "source": [
        "<a href=\"https://colab.research.google.com/github/N2000-hack/Machine-Learning-LAB/blob/main/Exp_6_Conditional_Unconditional_Probability.ipynb\" target=\"_parent\"><img src=\"https://colab.research.google.com/assets/colab-badge.svg\" alt=\"Open In Colab\"/></a>"
      ]
    },
    {
      "cell_type": "code",
      "metadata": {
        "id": "39psrBLn9JKY"
      },
      "source": [
        "import pandas as pd\n",
        "import numpy as np\n",
        "import matplotlib.pyplot as plt\n",
        "%matplotlib inline"
      ],
      "execution_count": 1,
      "outputs": []
    },
    {
      "cell_type": "code",
      "metadata": {
        "id": "Xljs2CE99JQI"
      },
      "source": [
        "data={\n",
        "'income' : ['medium','high','low','medium','high','low','medium','medium','high','low'],\n",
        "'recreation' : ['skiling','golf','speedway','football','flying','football','golf','golf','skiling','golf'],\n",
        "'job' : ['design','trading','transport','banking','media','security','media','transport','banking','unemployed'],\n",
        "'status' : ['single','married','married','single','married','single','single','married','single','married'],\n",
        "'age_group' : ['twenties','forties','thirties','thirties','fifties','twentites','thirties','forties','thirties','forties'],\n",
        "'home_owner' : ['no','yes','yes','yes','yes','no','yes','yes','yes','yes'],\n",
        " 'label' : ['highRisk','lowRisk','medRisk','lowRisk','highRisk','medRisk','medRisk','lowRisk','highRisk','highRisk']   \n",
        "}"
      ],
      "execution_count": 2,
      "outputs": []
    },
    {
      "cell_type": "code",
      "metadata": {
        "id": "96wOj2Gb9Jdv"
      },
      "source": [
        "df = pd.DataFrame(data)"
      ],
      "execution_count": 3,
      "outputs": []
    },
    {
      "cell_type": "code",
      "metadata": {
        "id": "f0D-l_uU9JoD",
        "colab": {
          "base_uri": "https://localhost:8080/",
          "height": 359
        },
        "outputId": "e39d6755-cd17-4fe9-d139-f15e8093bad7"
      },
      "source": [
        "df"
      ],
      "execution_count": 4,
      "outputs": [
        {
          "output_type": "execute_result",
          "data": {
            "text/html": [
              "<div>\n",
              "<style scoped>\n",
              "    .dataframe tbody tr th:only-of-type {\n",
              "        vertical-align: middle;\n",
              "    }\n",
              "\n",
              "    .dataframe tbody tr th {\n",
              "        vertical-align: top;\n",
              "    }\n",
              "\n",
              "    .dataframe thead th {\n",
              "        text-align: right;\n",
              "    }\n",
              "</style>\n",
              "<table border=\"1\" class=\"dataframe\">\n",
              "  <thead>\n",
              "    <tr style=\"text-align: right;\">\n",
              "      <th></th>\n",
              "      <th>income</th>\n",
              "      <th>recreation</th>\n",
              "      <th>job</th>\n",
              "      <th>status</th>\n",
              "      <th>age_group</th>\n",
              "      <th>home_owner</th>\n",
              "      <th>label</th>\n",
              "    </tr>\n",
              "  </thead>\n",
              "  <tbody>\n",
              "    <tr>\n",
              "      <th>0</th>\n",
              "      <td>medium</td>\n",
              "      <td>skiling</td>\n",
              "      <td>design</td>\n",
              "      <td>single</td>\n",
              "      <td>twenties</td>\n",
              "      <td>no</td>\n",
              "      <td>highRisk</td>\n",
              "    </tr>\n",
              "    <tr>\n",
              "      <th>1</th>\n",
              "      <td>high</td>\n",
              "      <td>golf</td>\n",
              "      <td>trading</td>\n",
              "      <td>married</td>\n",
              "      <td>forties</td>\n",
              "      <td>yes</td>\n",
              "      <td>lowRisk</td>\n",
              "    </tr>\n",
              "    <tr>\n",
              "      <th>2</th>\n",
              "      <td>low</td>\n",
              "      <td>speedway</td>\n",
              "      <td>transport</td>\n",
              "      <td>married</td>\n",
              "      <td>thirties</td>\n",
              "      <td>yes</td>\n",
              "      <td>medRisk</td>\n",
              "    </tr>\n",
              "    <tr>\n",
              "      <th>3</th>\n",
              "      <td>medium</td>\n",
              "      <td>football</td>\n",
              "      <td>banking</td>\n",
              "      <td>single</td>\n",
              "      <td>thirties</td>\n",
              "      <td>yes</td>\n",
              "      <td>lowRisk</td>\n",
              "    </tr>\n",
              "    <tr>\n",
              "      <th>4</th>\n",
              "      <td>high</td>\n",
              "      <td>flying</td>\n",
              "      <td>media</td>\n",
              "      <td>married</td>\n",
              "      <td>fifties</td>\n",
              "      <td>yes</td>\n",
              "      <td>highRisk</td>\n",
              "    </tr>\n",
              "    <tr>\n",
              "      <th>5</th>\n",
              "      <td>low</td>\n",
              "      <td>football</td>\n",
              "      <td>security</td>\n",
              "      <td>single</td>\n",
              "      <td>twentites</td>\n",
              "      <td>no</td>\n",
              "      <td>medRisk</td>\n",
              "    </tr>\n",
              "    <tr>\n",
              "      <th>6</th>\n",
              "      <td>medium</td>\n",
              "      <td>golf</td>\n",
              "      <td>media</td>\n",
              "      <td>single</td>\n",
              "      <td>thirties</td>\n",
              "      <td>yes</td>\n",
              "      <td>medRisk</td>\n",
              "    </tr>\n",
              "    <tr>\n",
              "      <th>7</th>\n",
              "      <td>medium</td>\n",
              "      <td>golf</td>\n",
              "      <td>transport</td>\n",
              "      <td>married</td>\n",
              "      <td>forties</td>\n",
              "      <td>yes</td>\n",
              "      <td>lowRisk</td>\n",
              "    </tr>\n",
              "    <tr>\n",
              "      <th>8</th>\n",
              "      <td>high</td>\n",
              "      <td>skiling</td>\n",
              "      <td>banking</td>\n",
              "      <td>single</td>\n",
              "      <td>thirties</td>\n",
              "      <td>yes</td>\n",
              "      <td>highRisk</td>\n",
              "    </tr>\n",
              "    <tr>\n",
              "      <th>9</th>\n",
              "      <td>low</td>\n",
              "      <td>golf</td>\n",
              "      <td>unemployed</td>\n",
              "      <td>married</td>\n",
              "      <td>forties</td>\n",
              "      <td>yes</td>\n",
              "      <td>highRisk</td>\n",
              "    </tr>\n",
              "  </tbody>\n",
              "</table>\n",
              "</div>"
            ],
            "text/plain": [
              "   income recreation         job   status  age_group home_owner     label\n",
              "0  medium    skiling      design   single   twenties         no  highRisk\n",
              "1    high       golf     trading  married    forties        yes   lowRisk\n",
              "2     low   speedway   transport  married   thirties        yes   medRisk\n",
              "3  medium   football     banking   single   thirties        yes   lowRisk\n",
              "4    high     flying       media  married    fifties        yes  highRisk\n",
              "5     low   football    security   single  twentites         no   medRisk\n",
              "6  medium       golf       media   single   thirties        yes   medRisk\n",
              "7  medium       golf   transport  married    forties        yes   lowRisk\n",
              "8    high    skiling     banking   single   thirties        yes  highRisk\n",
              "9     low       golf  unemployed  married    forties        yes  highRisk"
            ]
          },
          "metadata": {},
          "execution_count": 4
        }
      ]
    },
    {
      "cell_type": "code",
      "metadata": {
        "id": "S92o8zzI9Jyr",
        "colab": {
          "base_uri": "https://localhost:8080/"
        },
        "outputId": "55991f74-872b-4306-cb5e-6f43c6032d7d"
      },
      "source": [
        "prob1=data['recreation'].count('golf')\n",
        "prob1"
      ],
      "execution_count": 5,
      "outputs": [
        {
          "output_type": "execute_result",
          "data": {
            "text/plain": [
              "4"
            ]
          },
          "metadata": {},
          "execution_count": 5
        }
      ]
    },
    {
      "cell_type": "code",
      "metadata": {
        "id": "AOqtWva39J87",
        "colab": {
          "base_uri": "https://localhost:8080/"
        },
        "outputId": "0d52b3b1-817b-4d95-c1f7-91032b9d2345"
      },
      "source": [
        "prob2=len(data['recreation'])\n",
        "prob2"
      ],
      "execution_count": 6,
      "outputs": [
        {
          "output_type": "execute_result",
          "data": {
            "text/plain": [
              "10"
            ]
          },
          "metadata": {},
          "execution_count": 6
        }
      ]
    },
    {
      "cell_type": "code",
      "metadata": {
        "id": "Ny768gOz9KHm",
        "colab": {
          "base_uri": "https://localhost:8080/"
        },
        "outputId": "7193fbf3-8549-49ff-ebb1-143aa5b2306e"
      },
      "source": [
        "#unconditional probability on golf\n",
        "unconditional_golf=prob1/prob2\n",
        "unconditional_golf"
      ],
      "execution_count": 7,
      "outputs": [
        {
          "output_type": "execute_result",
          "data": {
            "text/plain": [
              "0.4"
            ]
          },
          "metadata": {},
          "execution_count": 7
        }
      ]
    },
    {
      "cell_type": "code",
      "metadata": {
        "id": "bVw4JTio9KSw",
        "colab": {
          "base_uri": "https://localhost:8080/"
        },
        "outputId": "85d6c490-becd-4191-c615-9b47d3749fac"
      },
      "source": [
        "prob_risk=data['label'].count('medRisk')\n",
        "prob_risk"
      ],
      "execution_count": 8,
      "outputs": [
        {
          "output_type": "execute_result",
          "data": {
            "text/plain": [
              "3"
            ]
          },
          "metadata": {},
          "execution_count": 8
        }
      ]
    },
    {
      "cell_type": "code",
      "metadata": {
        "id": "RahKMldX9Kd6",
        "colab": {
          "base_uri": "https://localhost:8080/"
        },
        "outputId": "05e4e413-8af8-4963-9a62-10bd32f5e85e"
      },
      "source": [
        "c=0\n",
        "for i in range(10):\n",
        "  if data['status'][i]=='single' and data['label'][i]=='medRisk':\n",
        "    c+=1\n",
        "c"
      ],
      "execution_count": 9,
      "outputs": [
        {
          "output_type": "execute_result",
          "data": {
            "text/plain": [
              "2"
            ]
          },
          "metadata": {},
          "execution_count": 9
        }
      ]
    },
    {
      "cell_type": "code",
      "metadata": {
        "id": "cqv7K8Xf9KqS",
        "colab": {
          "base_uri": "https://localhost:8080/"
        },
        "outputId": "9712ae34-c28d-40c4-c89d-b2c90baaf867"
      },
      "source": [
        "#conditional probability of single given medRisk in the dataset\n",
        "conditional_prob=c/prob_risk\n",
        "conditional_prob"
      ],
      "execution_count": 10,
      "outputs": [
        {
          "output_type": "execute_result",
          "data": {
            "text/plain": [
              "0.6666666666666666"
            ]
          },
          "metadata": {},
          "execution_count": 10
        }
      ]
    }
  ]
}