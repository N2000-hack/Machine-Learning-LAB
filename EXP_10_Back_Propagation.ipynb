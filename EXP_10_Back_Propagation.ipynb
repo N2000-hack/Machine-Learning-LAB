{
  "nbformat": 4,
  "nbformat_minor": 0,
  "metadata": {
    "colab": {
      "name": "EXP_10_Back_Propagation.ipynb",
      "provenance": [],
      "authorship_tag": "ABX9TyOaV0yWmCbZt7mIJIMbqPPF",
      "include_colab_link": true
    },
    "kernelspec": {
      "name": "python3",
      "display_name": "Python 3"
    },
    "language_info": {
      "name": "python"
    }
  },
  "cells": [
    {
      "cell_type": "markdown",
      "metadata": {
        "id": "view-in-github",
        "colab_type": "text"
      },
      "source": [
        "<a href=\"https://colab.research.google.com/github/N2000-hack/Machine-Learning-LAB/blob/main/EXP_10_Back_Propagation.ipynb\" target=\"_parent\"><img src=\"https://colab.research.google.com/assets/colab-badge.svg\" alt=\"Open In Colab\"/></a>"
      ]
    },
    {
      "cell_type": "code",
      "metadata": {
        "colab": {
          "base_uri": "https://localhost:8080/"
        },
        "id": "0gqSxXVvEPgU",
        "outputId": "f6db38a5-10f5-49dc-e528-dbe366f9976b"
      },
      "source": [
        "from google.colab import drive\n",
        "drive.mount('/content/drive')"
      ],
      "execution_count": 1,
      "outputs": [
        {
          "output_type": "stream",
          "name": "stdout",
          "text": [
            "Mounted at /content/drive\n"
          ]
        }
      ]
    },
    {
      "cell_type": "code",
      "metadata": {
        "colab": {
          "base_uri": "https://localhost:8080/"
        },
        "id": "ab8Ssa97ESh0",
        "outputId": "2f7d5173-a2fe-4383-9b57-ce7d17cb8f27"
      },
      "source": [
        "# using natural langauage toolkit\n",
        "import nltk\n",
        "nltk.download('punkt')\n",
        "from nltk.stem.lancaster import LancasterStemmer\n",
        "import os\n",
        "import json\n",
        "import datetime\n",
        "stemmer=LancasterStemmer()"
      ],
      "execution_count": 2,
      "outputs": [
        {
          "output_type": "stream",
          "name": "stdout",
          "text": [
            "[nltk_data] Downloading package punkt to /root/nltk_data...\n",
            "[nltk_data]   Unzipping tokenizers/punkt.zip.\n"
          ]
        }
      ]
    },
    {
      "cell_type": "code",
      "metadata": {
        "colab": {
          "base_uri": "https://localhost:8080/"
        },
        "id": "SwRsE84gEStG",
        "outputId": "9e3d37ce-13b3-41ad-af3c-d8970572b89e"
      },
      "source": [
        "# 3 classes of training data\n",
        "training_data=[]\n",
        "training_data.append({\"class\":\"greeting\",\"sentence\":\"how are you?\"})\n",
        "training_data.append({\"class\":\"greeting\",\"sentence\":\"how is are your day?\"})\n",
        "training_data.append({\"class\":\"greeting\",\"sentence\":\"good day\"})\n",
        "training_data.append({\"class\":\"greeting\",\"sentence\":\"how is it going today?\"})\n",
        "\n",
        "training_data.append({\"class\":\"goodbye\",\"sentence\":\"have a nice day\"})\n",
        "training_data.append({\"class\":\"goodbye\",\"sentence\":\"see you later\"})\n",
        "training_data.append({\"class\":\"goodbye\",\"sentence\":\"have a nice day\"})\n",
        "training_data.append({\"class\":\"goodbye\",\"sentence\":\"talk to you soon\"})\n",
        "\n",
        "training_data.append({\"class\":\"sandwich\",\"sentence\":\"make me a sandwich\"})\n",
        "training_data.append({\"class\":\"sandwich\",\"sentence\":\"can you make me a sandwich\"})\n",
        "training_data.append({\"class\":\"sandwich\",\"sentence\":\"having a sandwich today?\"})\n",
        "training_data.append({\"class\":\"sandwich\",\"sentence\":\"what's for lunch?\"})\n",
        "\n",
        "print(\"%s sentences in training data\" % len(training_data))"
      ],
      "execution_count": 3,
      "outputs": [
        {
          "output_type": "stream",
          "name": "stdout",
          "text": [
            "12 sentences in training data\n"
          ]
        }
      ]
    },
    {
      "cell_type": "code",
      "metadata": {
        "colab": {
          "base_uri": "https://localhost:8080/"
        },
        "id": "FpF0mexsES4d",
        "outputId": "c196bae0-25cc-4a2a-d8df-2a8a4a3b8c3f"
      },
      "source": [
        "words=[]\n",
        "classes=[]\n",
        "documents=[]\n",
        "ignore_words=['?']\n",
        "# loop through each sentence in our training data\n",
        "for pattern in training_data:\n",
        "  # tokenize each word in the sentence\n",
        "  w=nltk.word_tokenize(pattern['sentence'])\n",
        "  # add to our words list\n",
        "  words.extend(w)\n",
        "  # add to documents in our corpus\n",
        "  documents.append((w,pattern['class']))\n",
        "  # add to our classes list\n",
        "  if pattern['class'] not in classes:\n",
        "    classes.append(pattern['class'])\n",
        "\n",
        "# stem and lower each word and remove duplicates\n",
        "words=[stemmer.stem(w.lower()) for w in words if w not in ignore_words]\n",
        "words=list(set(words))\n",
        "\n",
        "# Remove duplicates\n",
        "classes=list(set(classes))\n",
        "\n",
        "print(len(documents), \"documents\")\n",
        "print(len(classes),\"classes\",classes)\n",
        "print(len(words),\"unique stemmed words\",words)"
      ],
      "execution_count": 4,
      "outputs": [
        {
          "output_type": "stream",
          "name": "stdout",
          "text": [
            "12 documents\n",
            "3 classes ['sandwich', 'goodbye', 'greeting']\n",
            "26 unique stemmed words ['me', 'is', 'lat', 'day', 'going', 'to', 'can', 'yo', 'mak', 'soon', 'hav', \"'s\", 'ar', 'nic', 'a', 'what', 'how', 'lunch', 'sandwich', 'today', 'you', 'talk', 'for', 'good', 'see', 'it']\n"
          ]
        }
      ]
    },
    {
      "cell_type": "code",
      "metadata": {
        "colab": {
          "base_uri": "https://localhost:8080/"
        },
        "id": "EtyFgdP1ETEV",
        "outputId": "d03be7f2-c0a5-4d7a-8b60-4e13d19766eb"
      },
      "source": [
        "# Create our training data\n",
        "training=[]\n",
        "output=[]\n",
        "# Create an empty array for our output\n",
        "output_empty=[0]*len(classes)\n",
        "\n",
        "# Training set, bag of words for each senetence\n",
        "for doc in documents:\n",
        "  # Initialize bag og our words\n",
        "  bag=[]\n",
        "  # List of tokenized words for the pattern\n",
        "  pattern_words=doc[0]\n",
        "  # Stem each word\n",
        "  pattern_words=[stemmer.stem(word.lower()) for word in pattern_words]\n",
        "  # Create our bag of words array\n",
        "  for w in words:\n",
        "    bag.append(1) if w in pattern_words else bag.append(0)\n",
        "  \n",
        "  training.append(bag)\n",
        "  # Output is a '0' for each tag and '1' for current tag\n",
        "  output_row=list(output_empty)\n",
        "  output_row[classes.index(doc[1])]=1\n",
        "  output.append(output_row)\n",
        "\n",
        "print(\"-> Words: \",len(words))\n",
        "print(\"-> Classes: \",len(classes))"
      ],
      "execution_count": 5,
      "outputs": [
        {
          "output_type": "stream",
          "name": "stdout",
          "text": [
            "-> Words:  26\n",
            "-> Classes:  3\n"
          ]
        }
      ]
    },
    {
      "cell_type": "code",
      "metadata": {
        "colab": {
          "base_uri": "https://localhost:8080/"
        },
        "id": "u8bXHPqKETRi",
        "outputId": "a03cb8f1-ee8d-4067-d317-4e34e99ab057"
      },
      "source": [
        "# Sample training/output\n",
        "i=0\n",
        "w=documents[i][0]\n",
        "print([stemmer.stem(word.lower()) for word in w])\n",
        "print(training[i])\n",
        "print(output[i])"
      ],
      "execution_count": 6,
      "outputs": [
        {
          "output_type": "stream",
          "name": "stdout",
          "text": [
            "['how', 'ar', 'you', '?']\n",
            "[0, 0, 0, 0, 0, 0, 0, 0, 0, 0, 0, 0, 1, 0, 0, 0, 1, 0, 0, 0, 1, 0, 0, 0, 0, 0]\n",
            "[0, 0, 1]\n"
          ]
        }
      ]
    },
    {
      "cell_type": "code",
      "metadata": {
        "id": "55SaPr-sETcj"
      },
      "source": [
        "import numpy as np\n",
        "import time\n",
        "\n",
        "#compute sigmoid nonlinearity\n",
        "def sigmoid(x):\n",
        "    output=1/(1+np.exp(-x))\n",
        "    return output\n",
        "#convert output of sigmoid function to its derivative\n",
        "def sigmoid_output_to_derivative(output):\n",
        "    return output*(1-output)\n",
        "\n",
        "def clean_up_sentence(sentence):\n",
        "    #tokenize the pattern\n",
        "    sentence_words = nltk.word_tokenize(sentence)\n",
        "    #stem each word\n",
        "    sentence_words=[stemmer.stem(word.lower()) for word in sentence_words]\n",
        "    return sentence_words\n",
        "\n",
        "#return bag of words array: 0 or 1 for each word in the bag that exists in the sentence\n",
        "def bow(sentence, words, show_details=False):\n",
        "    #tokenize the pattern\n",
        "    sentence_words=clean_up_sentence(sentence)\n",
        "    #bag of words\n",
        "    bag=[0]*len(words)\n",
        "    for s in sentence_words:\n",
        "        for i,w in enumerate(words):\n",
        "            if w == s: \n",
        "                bag[i] = 1\n",
        "                if show_details:\n",
        "                    print (\"found in bag: %s\" % w)\n",
        "    return(np.array(bag))\n",
        "\n",
        "def think(sentence, show_details=False):\n",
        "    x=bow(sentence.lower(),words,show_details)\n",
        "    if show_details:\n",
        "        print(\"sentence:\", sentence, \"\\n bow:\", x)\n",
        "    #input layer is our bag of words\n",
        "    l0=x\n",
        "    # matrix multiplication of input and hidden layer\n",
        "    l1 = sigmoid(np.dot(l0, synapse_0))\n",
        "    # output layer\n",
        "    l2 = sigmoid(np.dot(l1, synapse_1))\n",
        "    return l2"
      ],
      "execution_count": 7,
      "outputs": []
    },
    {
      "cell_type": "code",
      "metadata": {
        "id": "mIJ-OHFvETqW"
      },
      "source": [
        "def train(X, y, hidden_neurons=10, alpha=1, epochs=50000, dropout=False, dropout_percent=0.5):\n",
        "\n",
        "    print (\"Training with %s neurons, alpha:%s, dropout:%s %s\" % (hidden_neurons, str(alpha), dropout, dropout_percent if dropout else '') )\n",
        "    print (\"Input matrix: %sx%s    Output matrix: %sx%s\" % (len(X),len(X[0]),1, len(classes)) )\n",
        "    np.random.seed(1)\n",
        "\n",
        "    last_mean_error = 1\n",
        "    # randomly initialize our weights with mean 0\n",
        "    synapse_0 = 2*np.random.random((len(X[0]), hidden_neurons)) - 1\n",
        "    synapse_1 = 2*np.random.random((hidden_neurons, len(classes))) - 1\n",
        "\n",
        "    prev_synapse_0_weight_update = np.zeros_like(synapse_0)\n",
        "    prev_synapse_1_weight_update = np.zeros_like(synapse_1)\n",
        "\n",
        "    synapse_0_direction_count = np.zeros_like(synapse_0)\n",
        "    synapse_1_direction_count = np.zeros_like(synapse_1)\n",
        "        \n",
        "    for j in iter(range(epochs+1)):\n",
        "      # Feed forward through layers 0, 1, and 2\n",
        "        layer_0 = X\n",
        "        layer_1 = sigmoid(np.dot(layer_0, synapse_0))\n",
        "                \n",
        "        if(dropout):\n",
        "            layer_1 *= np.random.binomial([np.ones((len(X),hidden_neurons))],1-dropout_percent)[0] * (1.0/(1-dropout_percent))\n",
        "\n",
        "        layer_2 = sigmoid(np.dot(layer_1, synapse_1))\n",
        "        layer_2_error = y - layer_2\n",
        "        \n",
        "        if (j% 10000) == 0 and j > 5000:\n",
        "            # if this 10k iteration's error is greater than the last iteration, break out\n",
        "            if np.mean(np.abs(layer_2_error)) < last_mean_error:\n",
        "                print (\"delta after \"+str(j)+\" iterations:\" + str(np.mean(np.abs(layer_2_error))) )\n",
        "                last_mean_error = np.mean(np.abs(layer_2_error))\n",
        "            else:\n",
        "                print (\"break:\", np.mean(np.abs(layer_2_error)), \">\", last_mean_error )\n",
        "                break\n",
        "\n",
        "        layer_2_delta = layer_2_error * sigmoid_output_to_derivative(layer_2)\n",
        "        \n",
        "        layer_1_error = layer_2_delta.dot(synapse_1.T)\n",
        "\n",
        "        layer_1_delta = layer_1_error * sigmoid_output_to_derivative(layer_1)\n",
        "        \n",
        "        synapse_1_weight_update = (layer_1.T.dot(layer_2_delta))\n",
        "        synapse_0_weight_update = (layer_0.T.dot(layer_1_delta))\n",
        "\n",
        "        if(j > 0):\n",
        "            synapse_0_direction_count += np.abs(((synapse_0_weight_update > 0)+0) - ((prev_synapse_0_weight_update > 0) + 0))\n",
        "            synapse_1_direction_count += np.abs(((synapse_1_weight_update > 0)+0) - ((prev_synapse_1_weight_update > 0) + 0))\n",
        "        synapse_1 += alpha * synapse_1_weight_update\n",
        "        synapse_0 += alpha * synapse_0_weight_update\n",
        "        \n",
        "        prev_synapse_0_weight_update = synapse_0_weight_update\n",
        "        prev_synapse_1_weight_update = synapse_1_weight_update\n",
        "\n",
        "    now = datetime.datetime.now()\n",
        "\n",
        "    # persist synapses\n",
        "    synapse = {'synapse0': synapse_0.tolist(), 'synapse1': synapse_1.tolist(),\n",
        "               'datetime': now.strftime(\"%Y-%m-%d %H:%M\"),\n",
        "               'words': words,\n",
        "               'classes': classes\n",
        "              }\n",
        "    synapse_file = \"synapses.json\"\n",
        "\n",
        "    with open(synapse_file, 'w') as outfile:\n",
        "        json.dump(synapse, outfile, indent=4, sort_keys=True)\n",
        "    print (\"saved synapses to:\", synapse_file)"
      ],
      "execution_count": 8,
      "outputs": []
    },
    {
      "cell_type": "code",
      "metadata": {
        "colab": {
          "base_uri": "https://localhost:8080/"
        },
        "id": "TiCWUeoBET3h",
        "outputId": "0ea4ea65-d729-4beb-f127-07e8404ab7cb"
      },
      "source": [
        "X = np.array(training)\n",
        "y = np.array(output)\n",
        "\n",
        "start_time = time.time()\n",
        "\n",
        "train(X, y, hidden_neurons=20, alpha=0.1, epochs=100000, dropout=False, dropout_percent=0.2)\n",
        "\n",
        "elapsed_time = time.time() - start_time\n",
        "print (\"Processing time:\", elapsed_time, \"seconds\")"
      ],
      "execution_count": 9,
      "outputs": [
        {
          "output_type": "stream",
          "name": "stdout",
          "text": [
            "Training with 20 neurons, alpha:0.1, dropout:False \n",
            "Input matrix: 12x26    Output matrix: 1x3\n",
            "delta after 10000 iterations:0.006352182918419499\n",
            "delta after 20000 iterations:0.004339894959474387\n",
            "delta after 30000 iterations:0.0034829420527777524\n",
            "delta after 40000 iterations:0.002982729613229986\n",
            "delta after 50000 iterations:0.002646132286160117\n",
            "delta after 60000 iterations:0.002400240557418248\n",
            "delta after 70000 iterations:0.0022106937084484875\n",
            "delta after 80000 iterations:0.002058926939639587\n",
            "delta after 90000 iterations:0.0019339258092451773\n",
            "delta after 100000 iterations:0.0018286926917184725\n",
            "saved synapses to: synapses.json\n",
            "Processing time: 7.029014587402344 seconds\n"
          ]
        }
      ]
    },
    {
      "cell_type": "code",
      "metadata": {
        "colab": {
          "base_uri": "https://localhost:8080/"
        },
        "id": "qsoJmSAIEUEo",
        "outputId": "4f03a0bc-7836-49d3-9b3b-7550f3a35f49"
      },
      "source": [
        "# probability threshold\n",
        "ERROR_THRESHOLD = 0.2\n",
        "# load our calculated synapse values\n",
        "synapse_file = 'synapses.json' \n",
        "with open(synapse_file) as data_file: \n",
        "    synapse = json.load(data_file) \n",
        "    synapse_0 = np.asarray(synapse['synapse0']) \n",
        "    synapse_1 = np.asarray(synapse['synapse1'])\n",
        "\n",
        "def classify(sentence, show_details=False):\n",
        "    results = think(sentence, show_details)\n",
        "\n",
        "    results = [[i,r] for i,r in enumerate(results) if r>ERROR_THRESHOLD ] \n",
        "    results.sort(key=lambda x: x[1], reverse=True) \n",
        "    return_results =[[classes[r[0]],r[1]] for r in results]\n",
        "    print (\"%s \\n classification: %s\" % (sentence, return_results))\n",
        "    return return_results\n",
        "\n",
        "classify(\"sudo make me a sandwich\")\n",
        "classify(\"how are you today?\")\n",
        "classify(\"talk to you tomorrow\")\n",
        "classify(\"who are you?\")\n",
        "classify(\"make me some lunch\")\n",
        "print()\n",
        "classify(\"how was your lunch?\",show_details=True)"
      ],
      "execution_count": 10,
      "outputs": [
        {
          "output_type": "stream",
          "name": "stdout",
          "text": [
            "sudo make me a sandwich \n",
            " classification: [['sandwich', 0.9987265658205363]]\n",
            "how are you today? \n",
            " classification: [['greeting', 0.9968738618219737]]\n",
            "talk to you tomorrow \n",
            " classification: [['goodbye', 0.9833013149222586]]\n",
            "who are you? \n",
            " classification: [['greeting', 0.8870941185235123]]\n",
            "make me some lunch \n",
            " classification: [['sandwich', 0.9856730497436234]]\n",
            "\n",
            "found in bag: how\n",
            "found in bag: yo\n",
            "found in bag: lunch\n",
            "sentence: how was your lunch? \n",
            " bow: [0 0 0 0 0 0 0 1 0 0 0 0 0 0 0 0 1 1 0 0 0 0 0 0 0 0]\n",
            "how was your lunch? \n",
            " classification: [['greeting', 0.7510418752399777], ['sandwich', 0.33427056089212576]]\n"
          ]
        },
        {
          "output_type": "execute_result",
          "data": {
            "text/plain": [
              "[['greeting', 0.7510418752399777], ['sandwich', 0.33427056089212576]]"
            ]
          },
          "metadata": {},
          "execution_count": 10
        }
      ]
    }
  ]
}