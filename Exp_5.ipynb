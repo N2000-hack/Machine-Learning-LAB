{
  "nbformat": 4,
  "nbformat_minor": 0,
  "metadata": {
    "colab": {
      "name": "Exp_5.ipynb",
      "provenance": [],
      "authorship_tag": "ABX9TyPQKAARQu3A0laTG6UUEfB8",
      "include_colab_link": true
    },
    "kernelspec": {
      "name": "python3",
      "display_name": "Python 3"
    },
    "language_info": {
      "name": "python"
    }
  },
  "cells": [
    {
      "cell_type": "markdown",
      "metadata": {
        "id": "view-in-github",
        "colab_type": "text"
      },
      "source": [
        "<a href=\"https://colab.research.google.com/github/N2000-hack/Machine-Learning-LAB/blob/main/Exp_5.ipynb\" target=\"_parent\"><img src=\"https://colab.research.google.com/assets/colab-badge.svg\" alt=\"Open In Colab\"/></a>"
      ]
    },
    {
      "cell_type": "code",
      "metadata": {
        "id": "1gdT1qHu69cv"
      },
      "source": [
        "data=[[1.713,1.586,0],[0.180,1.786,1],[0.353,1.240,1],[0.940,1.566,0],[1.486,0.759,1],[1.266,1.106,0],[1.540,0.419,1],[0.459,1.799,1],[0.773,0.186,1]]"
      ],
      "execution_count": 1,
      "outputs": []
    },
    {
      "cell_type": "code",
      "metadata": {
        "id": "1GFM1dTv7Dq8"
      },
      "source": [
        "import pandas as pd\n",
        "df=pd.DataFrame(data,columns=['Var1','Var2','Class'])"
      ],
      "execution_count": 2,
      "outputs": []
    },
    {
      "cell_type": "code",
      "metadata": {
        "colab": {
          "base_uri": "https://localhost:8080/",
          "height": 297
        },
        "id": "o2gxSxa07D3u",
        "outputId": "7dfd7647-8ca1-490d-9654-a4c42f84c608"
      },
      "source": [
        "df.describe()"
      ],
      "execution_count": 3,
      "outputs": [
        {
          "output_type": "execute_result",
          "data": {
            "text/html": [
              "<div>\n",
              "<style scoped>\n",
              "    .dataframe tbody tr th:only-of-type {\n",
              "        vertical-align: middle;\n",
              "    }\n",
              "\n",
              "    .dataframe tbody tr th {\n",
              "        vertical-align: top;\n",
              "    }\n",
              "\n",
              "    .dataframe thead th {\n",
              "        text-align: right;\n",
              "    }\n",
              "</style>\n",
              "<table border=\"1\" class=\"dataframe\">\n",
              "  <thead>\n",
              "    <tr style=\"text-align: right;\">\n",
              "      <th></th>\n",
              "      <th>Var1</th>\n",
              "      <th>Var2</th>\n",
              "      <th>Class</th>\n",
              "    </tr>\n",
              "  </thead>\n",
              "  <tbody>\n",
              "    <tr>\n",
              "      <th>count</th>\n",
              "      <td>9.000000</td>\n",
              "      <td>9.000000</td>\n",
              "      <td>9.000000</td>\n",
              "    </tr>\n",
              "    <tr>\n",
              "      <th>mean</th>\n",
              "      <td>0.967778</td>\n",
              "      <td>1.160778</td>\n",
              "      <td>0.666667</td>\n",
              "    </tr>\n",
              "    <tr>\n",
              "      <th>std</th>\n",
              "      <td>0.563071</td>\n",
              "      <td>0.593125</td>\n",
              "      <td>0.500000</td>\n",
              "    </tr>\n",
              "    <tr>\n",
              "      <th>min</th>\n",
              "      <td>0.180000</td>\n",
              "      <td>0.186000</td>\n",
              "      <td>0.000000</td>\n",
              "    </tr>\n",
              "    <tr>\n",
              "      <th>25%</th>\n",
              "      <td>0.459000</td>\n",
              "      <td>0.759000</td>\n",
              "      <td>0.000000</td>\n",
              "    </tr>\n",
              "    <tr>\n",
              "      <th>50%</th>\n",
              "      <td>0.940000</td>\n",
              "      <td>1.240000</td>\n",
              "      <td>1.000000</td>\n",
              "    </tr>\n",
              "    <tr>\n",
              "      <th>75%</th>\n",
              "      <td>1.486000</td>\n",
              "      <td>1.586000</td>\n",
              "      <td>1.000000</td>\n",
              "    </tr>\n",
              "    <tr>\n",
              "      <th>max</th>\n",
              "      <td>1.713000</td>\n",
              "      <td>1.799000</td>\n",
              "      <td>1.000000</td>\n",
              "    </tr>\n",
              "  </tbody>\n",
              "</table>\n",
              "</div>"
            ],
            "text/plain": [
              "           Var1      Var2     Class\n",
              "count  9.000000  9.000000  9.000000\n",
              "mean   0.967778  1.160778  0.666667\n",
              "std    0.563071  0.593125  0.500000\n",
              "min    0.180000  0.186000  0.000000\n",
              "25%    0.459000  0.759000  0.000000\n",
              "50%    0.940000  1.240000  1.000000\n",
              "75%    1.486000  1.586000  1.000000\n",
              "max    1.713000  1.799000  1.000000"
            ]
          },
          "metadata": {},
          "execution_count": 3
        }
      ]
    },
    {
      "cell_type": "code",
      "metadata": {
        "colab": {
          "base_uri": "https://localhost:8080/",
          "height": 328
        },
        "id": "Wu_gQRhw7EDK",
        "outputId": "4f09f750-d4f6-43b0-aecb-cee5d2532f16"
      },
      "source": [
        "df"
      ],
      "execution_count": 4,
      "outputs": [
        {
          "output_type": "execute_result",
          "data": {
            "text/html": [
              "<div>\n",
              "<style scoped>\n",
              "    .dataframe tbody tr th:only-of-type {\n",
              "        vertical-align: middle;\n",
              "    }\n",
              "\n",
              "    .dataframe tbody tr th {\n",
              "        vertical-align: top;\n",
              "    }\n",
              "\n",
              "    .dataframe thead th {\n",
              "        text-align: right;\n",
              "    }\n",
              "</style>\n",
              "<table border=\"1\" class=\"dataframe\">\n",
              "  <thead>\n",
              "    <tr style=\"text-align: right;\">\n",
              "      <th></th>\n",
              "      <th>Var1</th>\n",
              "      <th>Var2</th>\n",
              "      <th>Class</th>\n",
              "    </tr>\n",
              "  </thead>\n",
              "  <tbody>\n",
              "    <tr>\n",
              "      <th>0</th>\n",
              "      <td>1.713</td>\n",
              "      <td>1.586</td>\n",
              "      <td>0</td>\n",
              "    </tr>\n",
              "    <tr>\n",
              "      <th>1</th>\n",
              "      <td>0.180</td>\n",
              "      <td>1.786</td>\n",
              "      <td>1</td>\n",
              "    </tr>\n",
              "    <tr>\n",
              "      <th>2</th>\n",
              "      <td>0.353</td>\n",
              "      <td>1.240</td>\n",
              "      <td>1</td>\n",
              "    </tr>\n",
              "    <tr>\n",
              "      <th>3</th>\n",
              "      <td>0.940</td>\n",
              "      <td>1.566</td>\n",
              "      <td>0</td>\n",
              "    </tr>\n",
              "    <tr>\n",
              "      <th>4</th>\n",
              "      <td>1.486</td>\n",
              "      <td>0.759</td>\n",
              "      <td>1</td>\n",
              "    </tr>\n",
              "    <tr>\n",
              "      <th>5</th>\n",
              "      <td>1.266</td>\n",
              "      <td>1.106</td>\n",
              "      <td>0</td>\n",
              "    </tr>\n",
              "    <tr>\n",
              "      <th>6</th>\n",
              "      <td>1.540</td>\n",
              "      <td>0.419</td>\n",
              "      <td>1</td>\n",
              "    </tr>\n",
              "    <tr>\n",
              "      <th>7</th>\n",
              "      <td>0.459</td>\n",
              "      <td>1.799</td>\n",
              "      <td>1</td>\n",
              "    </tr>\n",
              "    <tr>\n",
              "      <th>8</th>\n",
              "      <td>0.773</td>\n",
              "      <td>0.186</td>\n",
              "      <td>1</td>\n",
              "    </tr>\n",
              "  </tbody>\n",
              "</table>\n",
              "</div>"
            ],
            "text/plain": [
              "    Var1   Var2  Class\n",
              "0  1.713  1.586      0\n",
              "1  0.180  1.786      1\n",
              "2  0.353  1.240      1\n",
              "3  0.940  1.566      0\n",
              "4  1.486  0.759      1\n",
              "5  1.266  1.106      0\n",
              "6  1.540  0.419      1\n",
              "7  0.459  1.799      1\n",
              "8  0.773  0.186      1"
            ]
          },
          "metadata": {},
          "execution_count": 4
        }
      ]
    },
    {
      "cell_type": "code",
      "metadata": {
        "colab": {
          "base_uri": "https://localhost:8080/"
        },
        "id": "igMKUdjm7EPD",
        "outputId": "3ed0a095-a83b-4474-ad00-773eeb663ef9"
      },
      "source": [
        "df.info()"
      ],
      "execution_count": 5,
      "outputs": [
        {
          "output_type": "stream",
          "name": "stdout",
          "text": [
            "<class 'pandas.core.frame.DataFrame'>\n",
            "RangeIndex: 9 entries, 0 to 8\n",
            "Data columns (total 3 columns):\n",
            " #   Column  Non-Null Count  Dtype  \n",
            "---  ------  --------------  -----  \n",
            " 0   Var1    9 non-null      float64\n",
            " 1   Var2    9 non-null      float64\n",
            " 2   Class   9 non-null      int64  \n",
            "dtypes: float64(2), int64(1)\n",
            "memory usage: 344.0 bytes\n"
          ]
        }
      ]
    },
    {
      "cell_type": "code",
      "metadata": {
        "colab": {
          "base_uri": "https://localhost:8080/"
        },
        "id": "iOXvAXEc7Eam",
        "outputId": "d4da15a7-5222-46ac-ce9b-95b5f6984bd3"
      },
      "source": [
        "list(df.columns)"
      ],
      "execution_count": 6,
      "outputs": [
        {
          "output_type": "execute_result",
          "data": {
            "text/plain": [
              "['Var1', 'Var2', 'Class']"
            ]
          },
          "metadata": {},
          "execution_count": 6
        }
      ]
    },
    {
      "cell_type": "code",
      "metadata": {
        "colab": {
          "base_uri": "https://localhost:8080/"
        },
        "id": "OQ6MTqE-7EnB",
        "outputId": "698c90ca-528f-4092-8d12-54e4efa603b5"
      },
      "source": [
        "X=df.iloc[:,[0,1]].values\n",
        "X"
      ],
      "execution_count": 7,
      "outputs": [
        {
          "output_type": "execute_result",
          "data": {
            "text/plain": [
              "array([[1.713, 1.586],\n",
              "       [0.18 , 1.786],\n",
              "       [0.353, 1.24 ],\n",
              "       [0.94 , 1.566],\n",
              "       [1.486, 0.759],\n",
              "       [1.266, 1.106],\n",
              "       [1.54 , 0.419],\n",
              "       [0.459, 1.799],\n",
              "       [0.773, 0.186]])"
            ]
          },
          "metadata": {},
          "execution_count": 7
        }
      ]
    },
    {
      "cell_type": "code",
      "metadata": {
        "colab": {
          "base_uri": "https://localhost:8080/"
        },
        "id": "CUWT7-HV7Ex9",
        "outputId": "ad1dc9bc-5ee4-4e4a-9c35-84ed00d2b6f5"
      },
      "source": [
        "Y=df.iloc[:,[2]].values\n",
        "Y"
      ],
      "execution_count": 8,
      "outputs": [
        {
          "output_type": "execute_result",
          "data": {
            "text/plain": [
              "array([[0],\n",
              "       [1],\n",
              "       [1],\n",
              "       [0],\n",
              "       [1],\n",
              "       [0],\n",
              "       [1],\n",
              "       [1],\n",
              "       [1]])"
            ]
          },
          "metadata": {},
          "execution_count": 8
        }
      ]
    },
    {
      "cell_type": "code",
      "metadata": {
        "id": "78vCu7hH7E9T"
      },
      "source": [
        "from sklearn.cluster import KMeans\n",
        "kmeans = KMeans(n_clusters = 3, init = 'k-means++', random_state = 25)\n",
        "Y_kmeans = kmeans.fit_predict(X)\n",
        "df['cluster']=Y_kmeans"
      ],
      "execution_count": 9,
      "outputs": []
    },
    {
      "cell_type": "code",
      "metadata": {
        "colab": {
          "base_uri": "https://localhost:8080/"
        },
        "id": "zV1Fgup07FRL",
        "outputId": "593cad74-4adf-4913-bf2e-b331052656e7"
      },
      "source": [
        "Y_kmeans"
      ],
      "execution_count": 10,
      "outputs": [
        {
          "output_type": "execute_result",
          "data": {
            "text/plain": [
              "array([1, 2, 2, 1, 0, 1, 0, 2, 0], dtype=int32)"
            ]
          },
          "metadata": {},
          "execution_count": 10
        }
      ]
    },
    {
      "cell_type": "code",
      "metadata": {
        "colab": {
          "base_uri": "https://localhost:8080/"
        },
        "id": "WwRGsbqk7FcX",
        "outputId": "ff7ece7d-a0e9-451e-d3cf-608379276a47"
      },
      "source": [
        "#predict classification where VAR1=0.906 and VAR2=0.606\n",
        "kmeans.predict([[0.906,0.606]])"
      ],
      "execution_count": 11,
      "outputs": [
        {
          "output_type": "execute_result",
          "data": {
            "text/plain": [
              "array([0], dtype=int32)"
            ]
          },
          "metadata": {},
          "execution_count": 11
        }
      ]
    },
    {
      "cell_type": "code",
      "metadata": {
        "id": "3Gr-0kgX7Fm-"
      },
      "source": [
        "centroids = kmeans.cluster_centers_\n",
        "cen_X = [i[0] for i in centroids] \n",
        "cen_Y = [i[1] for i in centroids]\n",
        "df['cen_X'] = df.cluster.map({0:cen_X[0], 1:cen_X[1], 2:cen_X[2]})\n",
        "df['cen_Y'] = df.cluster.map({0:cen_Y[0], 1:cen_Y[1], 2:cen_Y[2]})\n",
        "colors = ['#006400', '#800000', '#4B0082']\n",
        "df['c'] = df.cluster.map({0:colors[0], 1:colors[1], 2:colors[2]})"
      ],
      "execution_count": 12,
      "outputs": []
    },
    {
      "cell_type": "code",
      "metadata": {
        "colab": {
          "base_uri": "https://localhost:8080/",
          "height": 282
        },
        "id": "HIy8OtAR7Fy4",
        "outputId": "e83ab631-86c2-43b7-da43-55eddfdb8f65"
      },
      "source": [
        "import matplotlib.pyplot as plt\n",
        "plt.scatter(df.Var1, df.Var2, c=df.c, alpha = 0.6, s=10)"
      ],
      "execution_count": 13,
      "outputs": [
        {
          "output_type": "execute_result",
          "data": {
            "text/plain": [
              "<matplotlib.collections.PathCollection at 0x7fc2e3db1b50>"
            ]
          },
          "metadata": {},
          "execution_count": 13
        },
        {
          "output_type": "display_data",
          "data": {
            "image/png": "[encoded data removed]",
            "text/plain": [
              "<Figure size 432x288 with 1 Axes>"
            ]
          },
          "metadata": {
            "needs_background": "light"
          }
        }
      ]
    }
  ]
}